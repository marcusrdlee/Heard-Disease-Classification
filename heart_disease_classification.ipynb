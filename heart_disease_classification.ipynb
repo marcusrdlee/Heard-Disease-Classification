{
 "cells": [
  {
   "cell_type": "markdown",
   "metadata": {},
   "source": [
    "# Marcus Lee (mrl256), James Chen (jzc28)\n",
    "# CS 4780 Spring 2024 Kaggle Competition - Hearts"
   ]
  },
  {
   "cell_type": "code",
   "execution_count": 1,
   "metadata": {
    "metadata": {}
   },
   "outputs": [],
   "source": [
    "import pandas as pd\n",
    "import numpy as np\n"
   ]
  },
  {
   "cell_type": "code",
   "execution_count": 2,
   "metadata": {},
   "outputs": [
    {
     "name": "stdout",
     "output_type": "stream",
     "text": [
      "<class 'pandas.core.frame.DataFrame'>\n",
      "Index: 272 entries, 0 to 29\n",
      "Data columns (total 14 columns):\n",
      " #   Column    Non-Null Count  Dtype  \n",
      "---  ------    --------------  -----  \n",
      " 0   age       272 non-null    int64  \n",
      " 1   sex       272 non-null    int64  \n",
      " 2   cp        272 non-null    int64  \n",
      " 3   trestbps  272 non-null    int64  \n",
      " 4   chol      272 non-null    int64  \n",
      " 5   fbs       272 non-null    int64  \n",
      " 6   restecg   272 non-null    int64  \n",
      " 7   thalach   272 non-null    int64  \n",
      " 8   exang     272 non-null    int64  \n",
      " 9   oldpeak   272 non-null    float64\n",
      " 10  slope     272 non-null    int64  \n",
      " 11  ca        269 non-null    float64\n",
      " 12  thal      270 non-null    float64\n",
      " 13  label     272 non-null    int64  \n",
      "dtypes: float64(3), int64(11)\n",
      "memory usage: 31.9 KB\n",
      "None\n"
     ]
    }
   ],
   "source": [
    "train_data = pd.read_csv(\"data/train.csv\")\n",
    "val_data = pd.read_csv(\"data/validation.csv\")\n",
    "test_data = pd.read_csv(\"data/test.csv\")\n",
    "\n",
    "train_data = pd.DataFrame(train_data)\n",
    "val_data = pd.DataFrame(val_data)\n",
    "test_data = pd.DataFrame(test_data)\n",
    "\n",
    "train_data = pd.concat([train_data, val_data], axis=0)\n",
    "\n",
    "print(train_data.info())"
   ]
  },
  {
   "cell_type": "code",
   "execution_count": 3,
   "metadata": {},
   "outputs": [],
   "source": [
    "x_train = train_data.drop(['label'], axis=1)\n",
    "y_train = train_data['label']\n",
    "x_test = test_data.drop(['id'], axis=1)\n",
    "x_train = x_train.fillna(0) # CHANGE THIS\n",
    "x_test = x_test.fillna(0) # CHANGE THIS"
   ]
  },
  {
   "cell_type": "code",
   "execution_count": 4,
   "metadata": {},
   "outputs": [
    {
     "name": "stdout",
     "output_type": "stream",
     "text": [
      "{'max_depth': 2, 'random_state': 0}\n",
      "0.8566176470588235\n"
     ]
    }
   ],
   "source": [
    "from sklearn.model_selection import GridSearchCV\n",
    "from sklearn.ensemble import RandomForestClassifier\n",
    "\n",
    "rfc = RandomForestClassifier()\n",
    "params = {'max_depth' : [1,2,3,4], 'random_state': [0]}\n",
    "clf = GridSearchCV(rfc, params)\n",
    "clf.fit(x_train, y_train)\n",
    "\n",
    "# preds = clf.predict(x_test)\n",
    "print(clf.best_params_)\n",
    "score = clf.score(x_train, y_train)\n",
    "print(score)\n"
   ]
  },
  {
   "cell_type": "code",
   "execution_count": 5,
   "metadata": {},
   "outputs": [
    {
     "name": "stdout",
     "output_type": "stream",
     "text": [
      "{'max_depth': 2, 'random_state': 0}\n",
      "0.8566176470588235\n"
     ]
    }
   ],
   "source": [
    "from sklearn.svm import SVC\n",
    "\n",
    "rfc = RandomForestClassifier()\n",
    "params = {'max_depth' : [1,2,3,4], 'random_state': [0]}\n",
    "clf = GridSearchCV(rfc, params)\n",
    "clf.fit(x_train, y_train)\n",
    "\n",
    "# preds = clf.predict(x_test)\n",
    "print(clf.best_params_)\n",
    "score = clf.score(x_train, y_train)\n",
    "print(score)\n"
   ]
  },
  {
   "cell_type": "code",
   "execution_count": 10,
   "metadata": {},
   "outputs": [
    {
     "name": "stdout",
     "output_type": "stream",
     "text": [
      "{'C': 2.25, 'gamma': 2.25, 'kernel': 'linear'}\n",
      "0.8492647058823529\n"
     ]
    }
   ],
   "source": [
    "from sklearn.svm import SVC\n",
    "ksvm = SVC()\n",
    "params = {'kernel':('rbf', 'linear'), 'C':[2.25], 'gamma':[2.25]}\n",
    "ksvm_cv = GridSearchCV(ksvm, params)\n",
    "ksvm_cv.fit(x_train, y_train)\n",
    "\n",
    "print(ksvm_cv.best_params_)\n",
    "score = ksvm_cv.score(x_train, y_train)\n",
    "print(score)"
   ]
  },
  {
   "cell_type": "code",
   "execution_count": 11,
   "metadata": {},
   "outputs": [
    {
     "name": "stdout",
     "output_type": "stream",
     "text": [
      "X TEST:     age  sex  cp  trestbps  chol  fbs  restecg  thalach  exang  oldpeak  \\\n",
      "0    53    1   3       130   246    1        2      173      0      0.0   \n",
      "1    53    1   4       140   203    1        2      155      1      3.1   \n",
      "2    47    1   3       130   253    0        0      179      0      0.0   \n",
      "3    61    1   4       148   203    0        0      161      0      0.0   \n",
      "4    57    1   4       152   274    0        0       88      1      1.2   \n",
      "5    43    1   4       110   211    0        0      161      0      0.0   \n",
      "6    54    1   4       140   239    0        0      160      0      1.2   \n",
      "7    49    1   3       118   149    0        2      126      0      0.8   \n",
      "8    58    1   3       112   230    0        2      165      0      2.5   \n",
      "9    62    1   3       130   231    0        0      146      0      1.8   \n",
      "10   71    0   2       160   302    0        0      162      0      0.4   \n",
      "11   62    0   4       138   294    1        0      106      0      1.9   \n",
      "12   45    0   2       130   234    0        2      175      0      0.6   \n",
      "13   58    1   4       100   234    0        0      156      0      0.1   \n",
      "14   39    1   3       140   321    0        2      182      0      0.0   \n",
      "15   43    1   4       132   247    1        2      143      1      0.1   \n",
      "16   40    1   4       152   223    0        0      181      0      0.0   \n",
      "17   65    1   4       135   254    0        2      127      0      2.8   \n",
      "18   51    0   3       140   308    0        2      142      0      1.5   \n",
      "19   51    0   4       130   305    0        0      142      1      1.2   \n",
      "20   57    0   4       120   354    0        0      163      1      0.6   \n",
      "21   58    0   4       130   197    0        0      131      0      0.6   \n",
      "22   48    1   2       130   245    0        2      180      0      0.2   \n",
      "23   54    0   3       135   304    1        0      170      0      0.0   \n",
      "24   35    1   2       122   192    0        0      174      0      0.0   \n",
      "25   49    1   3       120   188    0        0      139      0      2.0   \n",
      "26   51    1   3       110   175    0        0      123      0      0.6   \n",
      "27   57    1   4       130   131    0        0      115      1      1.2   \n",
      "28   65    1   4       110   248    0        2      158      0      0.6   \n",
      "29   59    1   4       135   234    0        0      161      0      0.5   \n",
      "30   51    1   3       125   245    1        2      166      0      2.4   \n",
      "\n",
      "    slope   ca  thal  \n",
      "0       1  3.0   3.0  \n",
      "1       3  0.0   7.0  \n",
      "2       1  0.0   3.0  \n",
      "3       1  1.0   7.0  \n",
      "4       2  1.0   7.0  \n",
      "5       1  0.0   7.0  \n",
      "6       1  0.0   3.0  \n",
      "7       1  3.0   3.0  \n",
      "8       2  1.0   7.0  \n",
      "9       2  3.0   7.0  \n",
      "10      1  2.0   3.0  \n",
      "11      2  3.0   3.0  \n",
      "12      2  0.0   3.0  \n",
      "13      1  1.0   7.0  \n",
      "14      1  0.0   3.0  \n",
      "15      2  0.0   7.0  \n",
      "16      1  0.0   7.0  \n",
      "17      2  1.0   7.0  \n",
      "18      1  1.0   3.0  \n",
      "19      2  0.0   7.0  \n",
      "20      1  0.0   3.0  \n",
      "21      2  0.0   3.0  \n",
      "22      2  0.0   3.0  \n",
      "23      1  0.0   3.0  \n",
      "24      1  0.0   3.0  \n",
      "25      2  3.0   7.0  \n",
      "26      1  0.0   3.0  \n",
      "27      2  1.0   7.0  \n",
      "28      1  2.0   6.0  \n",
      "29      2  0.0   7.0  \n",
      "30      2  0.0   3.0  \n",
      "Y TEST: [1 1 0 1 1 0 0 1 1 1 0 1 0 1 0 1 0 1 0 1 0 0 0 0 0 1 0 1 1 0 0]\n"
     ]
    }
   ],
   "source": [
    "y_test = ksvm_cv.predict(x_test)\n",
    "print(\"X TEST:\", x_test)\n",
    "print(\"Y TEST:\", y_test)"
   ]
  },
  {
   "cell_type": "code",
   "execution_count": 12,
   "metadata": {},
   "outputs": [],
   "source": [
    "submission = pd.DataFrame({'id':test_data['id'], 'label':y_test})\n",
    "submission.to_csv('data/submission.csv', index=False)"
   ]
  },
  {
   "cell_type": "code",
   "execution_count": 13,
   "metadata": {},
   "outputs": [
    {
     "name": "stdout",
     "output_type": "stream",
     "text": [
      "0     0\n",
      "1     1\n",
      "2     0\n",
      "3     1\n",
      "4     1\n",
      "5     0\n",
      "6     0\n",
      "7     1\n",
      "8     1\n",
      "9     0\n",
      "10    0\n",
      "11    1\n",
      "12    0\n",
      "13    1\n",
      "14    0\n",
      "15    1\n",
      "16    1\n",
      "17    1\n",
      "18    0\n",
      "19    1\n",
      "20    0\n",
      "21    0\n",
      "22    0\n",
      "23    0\n",
      "24    0\n",
      "25    1\n",
      "26    0\n",
      "27    1\n",
      "28    1\n",
      "29    0\n",
      "30    0\n",
      "Name: label, dtype: int64\n"
     ]
    }
   ],
   "source": [
    "submission = pd.read_csv('data/susmission.csv')\n",
    "submission = pd.DataFrame(submission)\n",
    "print(submission['label'])"
   ]
  },
  {
   "cell_type": "code",
   "execution_count": null,
   "metadata": {},
   "outputs": [],
   "source": []
  }
 ],
 "metadata": {
  "kernelspec": {
   "display_name": "hearts",
   "language": "python",
   "name": "python3"
  },
  "language_info": {
   "codemirror_mode": {
    "name": "ipython",
    "version": 3
   },
   "file_extension": ".py",
   "mimetype": "text/x-python",
   "name": "python",
   "nbconvert_exporter": "python",
   "pygments_lexer": "ipython3",
   "version": "3.12.1"
  }
 },
 "nbformat": 4,
 "nbformat_minor": 2
}
