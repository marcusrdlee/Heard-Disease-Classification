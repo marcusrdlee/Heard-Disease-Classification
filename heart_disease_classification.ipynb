{
 "cells": [
  {
   "cell_type": "markdown",
   "metadata": {},
   "source": [
    "# Marcus Lee (mrl256), James Chen (jzc28)\n",
    "# CS 4780 Spring 2024 Kaggle Competition - Hearts"
   ]
  },
  {
   "cell_type": "code",
   "execution_count": 2,
   "metadata": {
    "metadata": {}
   },
   "outputs": [
    {
     "name": "stdout",
     "output_type": "stream",
     "text": [
      "Collecting pandas\n",
      "  Obtaining dependency information for pandas from https://files.pythonhosted.org/packages/22/a5/a0b255295406ed54269814bc93723cfd1a0da63fb9aaf99e1364f07923e5/pandas-2.2.2-cp312-cp312-win_amd64.whl.metadata\n",
      "  Downloading pandas-2.2.2-cp312-cp312-win_amd64.whl.metadata (19 kB)\n",
      "Collecting numpy>=1.26.0 (from pandas)\n",
      "  Obtaining dependency information for numpy>=1.26.0 from https://files.pythonhosted.org/packages/16/2e/86f24451c2d530c88daf997cb8d6ac622c1d40d19f5a031ed68a4b73a374/numpy-1.26.4-cp312-cp312-win_amd64.whl.metadata\n",
      "  Using cached numpy-1.26.4-cp312-cp312-win_amd64.whl.metadata (61 kB)\n",
      "Requirement already satisfied: python-dateutil>=2.8.2 in c:\\users\\james chen\\documents\\cs 4780\\heart-disease-classification\\hearts\\lib\\site-packages (from pandas) (2.9.0.post0)\n",
      "Collecting pytz>=2020.1 (from pandas)\n",
      "  Obtaining dependency information for pytz>=2020.1 from https://files.pythonhosted.org/packages/9c/3d/a121f284241f08268b21359bd425f7d4825cffc5ac5cd0e1b3d82ffd2b10/pytz-2024.1-py2.py3-none-any.whl.metadata\n",
      "  Downloading pytz-2024.1-py2.py3-none-any.whl.metadata (22 kB)\n",
      "Collecting tzdata>=2022.7 (from pandas)\n",
      "  Obtaining dependency information for tzdata>=2022.7 from https://files.pythonhosted.org/packages/65/58/f9c9e6be752e9fcb8b6a0ee9fb87e6e7a1f6bcab2cdc73f02bb7ba91ada0/tzdata-2024.1-py2.py3-none-any.whl.metadata\n",
      "  Downloading tzdata-2024.1-py2.py3-none-any.whl.metadata (1.4 kB)\n",
      "Requirement already satisfied: six>=1.5 in c:\\users\\james chen\\documents\\cs 4780\\heart-disease-classification\\hearts\\lib\\site-packages (from python-dateutil>=2.8.2->pandas) (1.16.0)\n",
      "Downloading pandas-2.2.2-cp312-cp312-win_amd64.whl (11.5 MB)\n",
      "   ---------------------------------------- 0.0/11.5 MB ? eta -:--:--\n",
      "   ---------------------------------------- 0.1/11.5 MB 3.2 MB/s eta 0:00:04\n",
      "   -- ------------------------------------- 0.6/11.5 MB 8.1 MB/s eta 0:00:02\n",
      "   ---- ----------------------------------- 1.2/11.5 MB 11.3 MB/s eta 0:00:01\n",
      "   ------ --------------------------------- 1.8/11.5 MB 10.4 MB/s eta 0:00:01\n",
      "   -------- ------------------------------- 2.3/11.5 MB 10.7 MB/s eta 0:00:01\n",
      "   --------- ------------------------------ 2.6/11.5 MB 10.5 MB/s eta 0:00:01\n",
      "   ---------- ----------------------------- 3.0/11.5 MB 10.0 MB/s eta 0:00:01\n",
      "   ------------ --------------------------- 3.5/11.5 MB 10.2 MB/s eta 0:00:01\n",
      "   ------------- -------------------------- 3.8/11.5 MB 9.7 MB/s eta 0:00:01\n",
      "   --------------- ------------------------ 4.5/11.5 MB 9.8 MB/s eta 0:00:01\n",
      "   ---------------- ----------------------- 4.8/11.5 MB 9.6 MB/s eta 0:00:01\n",
      "   ------------------- -------------------- 5.5/11.5 MB 10.1 MB/s eta 0:00:01\n",
      "   --------------------- ------------------ 6.1/11.5 MB 10.2 MB/s eta 0:00:01\n",
      "   ------------------------ --------------- 7.0/11.5 MB 10.9 MB/s eta 0:00:01\n",
      "   ------------------------- -------------- 7.3/11.5 MB 10.6 MB/s eta 0:00:01\n",
      "   --------------------------- ------------ 7.9/11.5 MB 11.0 MB/s eta 0:00:01\n",
      "   ------------------------------- -------- 9.1/11.5 MB 11.9 MB/s eta 0:00:01\n",
      "   ----------------------------------- ---- 10.3/11.5 MB 12.8 MB/s eta 0:00:01\n",
      "   -------------------------------------- - 11.2/11.5 MB 13.4 MB/s eta 0:00:01\n",
      "   ---------------------------------------  11.5/11.5 MB 13.9 MB/s eta 0:00:01\n",
      "   ---------------------------------------  11.5/11.5 MB 13.9 MB/s eta 0:00:01\n",
      "   ---------------------------------------  11.5/11.5 MB 13.9 MB/s eta 0:00:01\n",
      "   ---------------------------------------- 11.5/11.5 MB 11.5 MB/s eta 0:00:00\n",
      "Using cached numpy-1.26.4-cp312-cp312-win_amd64.whl (15.5 MB)\n",
      "Downloading pytz-2024.1-py2.py3-none-any.whl (505 kB)\n",
      "   ---------------------------------------- 0.0/505.5 kB ? eta -:--:--\n",
      "   --------------------------------------- 505.5/505.5 kB 10.5 MB/s eta 0:00:00\n",
      "Downloading tzdata-2024.1-py2.py3-none-any.whl (345 kB)\n",
      "   ---------------------------------------- 0.0/345.4 kB ? eta -:--:--\n",
      "   --------------------------------------- 345.4/345.4 kB 22.3 MB/s eta 0:00:00\n",
      "Installing collected packages: pytz, tzdata, numpy, pandas\n",
      "Successfully installed numpy-1.26.4 pandas-2.2.2 pytz-2024.1 tzdata-2024.1\n",
      "Note: you may need to restart the kernel to use updated packages.\n"
     ]
    }
   ],
   "source": [
    "import pandas as pd\n",
    "import numpy as np"
   ]
  },
  {
   "cell_type": "code",
   "execution_count": null,
   "metadata": {},
   "outputs": [],
   "source": []
  }
 ],
 "metadata": {
  "kernelspec": {
   "display_name": "hearts",
   "language": "python",
   "name": "python3"
  },
  "language_info": {
   "codemirror_mode": {
    "name": "ipython",
    "version": 3
   },
   "file_extension": ".py",
   "mimetype": "text/x-python",
   "name": "python",
   "nbconvert_exporter": "python",
   "pygments_lexer": "ipython3",
   "version": "3.12.1"
  }
 },
 "nbformat": 4,
 "nbformat_minor": 2
}
