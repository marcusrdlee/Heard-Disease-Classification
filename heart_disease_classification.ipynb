{
 "cells": [
  {
   "cell_type": "markdown",
   "metadata": {},
   "source": [
    "# Marcus Lee (mrl256), James Chen (jzc28)\n",
    "# CS 4780 Spring 2024 Kaggle Competition - Hearts"
   ]
  },
  {
   "cell_type": "code",
   "execution_count": 2,
   "metadata": {
    "metadata": {}
   },
   "outputs": [
    {
     "name": "stdout",
     "output_type": "stream",
     "text": [
      "Collecting pandas\n",
      "  Obtaining dependency information for pandas from https://files.pythonhosted.org/packages/22/a5/a0b255295406ed54269814bc93723cfd1a0da63fb9aaf99e1364f07923e5/pandas-2.2.2-cp312-cp312-win_amd64.whl.metadata\n",
      "  Downloading pandas-2.2.2-cp312-cp312-win_amd64.whl.metadata (19 kB)\n",
      "Collecting numpy>=1.26.0 (from pandas)\n",
      "  Obtaining dependency information for numpy>=1.26.0 from https://files.pythonhosted.org/packages/16/2e/86f24451c2d530c88daf997cb8d6ac622c1d40d19f5a031ed68a4b73a374/numpy-1.26.4-cp312-cp312-win_amd64.whl.metadata\n",
      "  Using cached numpy-1.26.4-cp312-cp312-win_amd64.whl.metadata (61 kB)\n",
      "Requirement already satisfied: python-dateutil>=2.8.2 in c:\\users\\james chen\\documents\\cs 4780\\heart-disease-classification\\hearts\\lib\\site-packages (from pandas) (2.9.0.post0)\n",
      "Collecting pytz>=2020.1 (from pandas)\n",
      "  Obtaining dependency information for pytz>=2020.1 from https://files.pythonhosted.org/packages/9c/3d/a121f284241f08268b21359bd425f7d4825cffc5ac5cd0e1b3d82ffd2b10/pytz-2024.1-py2.py3-none-any.whl.metadata\n",
      "  Downloading pytz-2024.1-py2.py3-none-any.whl.metadata (22 kB)\n",
      "Collecting tzdata>=2022.7 (from pandas)\n",
      "  Obtaining dependency information for tzdata>=2022.7 from https://files.pythonhosted.org/packages/65/58/f9c9e6be752e9fcb8b6a0ee9fb87e6e7a1f6bcab2cdc73f02bb7ba91ada0/tzdata-2024.1-py2.py3-none-any.whl.metadata\n",
      "  Downloading tzdata-2024.1-py2.py3-none-any.whl.metadata (1.4 kB)\n",
      "Requirement already satisfied: six>=1.5 in c:\\users\\james chen\\documents\\cs 4780\\heart-disease-classification\\hearts\\lib\\site-packages (from python-dateutil>=2.8.2->pandas) (1.16.0)\n",
      "Downloading pandas-2.2.2-cp312-cp312-win_amd64.whl (11.5 MB)\n",
      "   ---------------------------------------- 0.0/11.5 MB ? eta -:--:--\n",
      "   ---------------------------------------- 0.1/11.5 MB 3.2 MB/s eta 0:00:04\n",
      "   -- ------------------------------------- 0.6/11.5 MB 8.1 MB/s eta 0:00:02\n",
      "   ---- ----------------------------------- 1.2/11.5 MB 11.3 MB/s eta 0:00:01\n",
      "   ------ --------------------------------- 1.8/11.5 MB 10.4 MB/s eta 0:00:01\n",
      "   -------- ------------------------------- 2.3/11.5 MB 10.7 MB/s eta 0:00:01\n",
      "   --------- ------------------------------ 2.6/11.5 MB 10.5 MB/s eta 0:00:01\n",
      "   ---------- ----------------------------- 3.0/11.5 MB 10.0 MB/s eta 0:00:01\n",
      "   ------------ --------------------------- 3.5/11.5 MB 10.2 MB/s eta 0:00:01\n",
      "   ------------- -------------------------- 3.8/11.5 MB 9.7 MB/s eta 0:00:01\n",
      "   --------------- ------------------------ 4.5/11.5 MB 9.8 MB/s eta 0:00:01\n",
      "   ---------------- ----------------------- 4.8/11.5 MB 9.6 MB/s eta 0:00:01\n",
      "   ------------------- -------------------- 5.5/11.5 MB 10.1 MB/s eta 0:00:01\n",
      "   --------------------- ------------------ 6.1/11.5 MB 10.2 MB/s eta 0:00:01\n",
      "   ------------------------ --------------- 7.0/11.5 MB 10.9 MB/s eta 0:00:01\n",
      "   ------------------------- -------------- 7.3/11.5 MB 10.6 MB/s eta 0:00:01\n",
      "   --------------------------- ------------ 7.9/11.5 MB 11.0 MB/s eta 0:00:01\n",
      "   ------------------------------- -------- 9.1/11.5 MB 11.9 MB/s eta 0:00:01\n",
      "   ----------------------------------- ---- 10.3/11.5 MB 12.8 MB/s eta 0:00:01\n",
      "   -------------------------------------- - 11.2/11.5 MB 13.4 MB/s eta 0:00:01\n",
      "   ---------------------------------------  11.5/11.5 MB 13.9 MB/s eta 0:00:01\n",
      "   ---------------------------------------  11.5/11.5 MB 13.9 MB/s eta 0:00:01\n",
      "   ---------------------------------------  11.5/11.5 MB 13.9 MB/s eta 0:00:01\n",
      "   ---------------------------------------- 11.5/11.5 MB 11.5 MB/s eta 0:00:00\n",
      "Using cached numpy-1.26.4-cp312-cp312-win_amd64.whl (15.5 MB)\n",
      "Downloading pytz-2024.1-py2.py3-none-any.whl (505 kB)\n",
      "   ---------------------------------------- 0.0/505.5 kB ? eta -:--:--\n",
      "   --------------------------------------- 505.5/505.5 kB 10.5 MB/s eta 0:00:00\n",
      "Downloading tzdata-2024.1-py2.py3-none-any.whl (345 kB)\n",
      "   ---------------------------------------- 0.0/345.4 kB ? eta -:--:--\n",
      "   --------------------------------------- 345.4/345.4 kB 22.3 MB/s eta 0:00:00\n",
      "Installing collected packages: pytz, tzdata, numpy, pandas\n",
      "Successfully installed numpy-1.26.4 pandas-2.2.2 pytz-2024.1 tzdata-2024.1\n",
      "Note: you may need to restart the kernel to use updated packages.\n"
     ]
    }
   ],
   "source": [
    "import pandas as pd\n",
    "import numpy as np\n"
   ]
  },
  {
   "cell_type": "code",
   "execution_count": 38,
   "metadata": {},
   "outputs": [
    {
     "name": "stdout",
     "output_type": "stream",
     "text": [
      "<class 'pandas.core.frame.DataFrame'>\n",
      "RangeIndex: 242 entries, 0 to 241\n",
      "Data columns (total 14 columns):\n",
      " #   Column    Non-Null Count  Dtype  \n",
      "---  ------    --------------  -----  \n",
      " 0   age       242 non-null    int64  \n",
      " 1   sex       242 non-null    int64  \n",
      " 2   cp        242 non-null    int64  \n",
      " 3   trestbps  242 non-null    int64  \n",
      " 4   chol      242 non-null    int64  \n",
      " 5   fbs       242 non-null    int64  \n",
      " 6   restecg   242 non-null    int64  \n",
      " 7   thalach   242 non-null    int64  \n",
      " 8   exang     242 non-null    int64  \n",
      " 9   oldpeak   242 non-null    float64\n",
      " 10  slope     242 non-null    int64  \n",
      " 11  ca        239 non-null    float64\n",
      " 12  thal      240 non-null    float64\n",
      " 13  label     242 non-null    int64  \n",
      "dtypes: float64(3), int64(11)\n",
      "memory usage: 26.6 KB\n",
      "None\n"
     ]
    }
   ],
   "source": [
    "train_data = pd.read_csv(\"data/train.csv\")\n",
    "val_data = pd.read_csv(\"data/validation.csv\")\n",
    "test_data = pd.read_csv(\"data/test.csv\")\n",
    "\n",
    "train_data = pd.DataFrame(train_data)\n",
    "val_data = pd.DataFrame(val_data)\n",
    "test_data = pd.DataFrame(test_data)\n",
    "\n",
    "train_data = pd.concat([train_data, val_data], axis=0)\n",
    "\n",
    "print(train_data.info())"
   ]
  },
  {
   "cell_type": "code",
   "execution_count": 40,
   "metadata": {},
   "outputs": [],
   "source": [
    "x_train = train_data.drop(['label'], axis=1)\n",
    "y_train = train_data['label']\n",
    "x_test = test_data.drop(['id'], axis=1)\n",
    "x_train = x_train.fillna(0) # CHANGE THIS\n",
    "x_test = x_test.fillna(0) # CHANGE THIS"
   ]
  },
  {
   "cell_type": "code",
   "execution_count": 4,
   "metadata": {},
   "outputs": [
    {
     "name": "stdout",
     "output_type": "stream",
     "text": [
      "{'max_depth': 2, 'random_state': 0}\n",
      "0.8566176470588235\n"
     ]
    }
   ],
   "source": [
    "from sklearn.model_selection import GridSearchCV\n",
    "from sklearn.ensemble import RandomForestClassifier\n",
    "\n",
    "rfc = RandomForestClassifier()\n",
    "params = {'max_depth' : [1,2,3,4], 'random_state': [0]}\n",
    "clf = GridSearchCV(rfc, params)\n",
    "clf.fit(x_train, y_train)\n",
    "\n",
    "# preds = clf.predict(x_test)\n",
    "print(clf.best_params_)\n",
    "score = clf.score(x_train, y_train)\n",
    "print(score)\n"
   ]
  },
  {
   "cell_type": "code",
   "execution_count": 5,
   "metadata": {},
   "outputs": [
    {
     "name": "stdout",
     "output_type": "stream",
     "text": [
      "{'max_depth': 2, 'random_state': 0}\n",
      "0.8566176470588235\n"
     ]
    }
   ],
   "source": [
    "from sklearn.svm import SVC\n",
    "\n",
    "rfc = RandomForestClassifier()\n",
    "params = {'max_depth' : [1,2,3,4], 'random_state': [0]}\n",
    "clf = GridSearchCV(rfc, params)\n",
    "clf.fit(x_train, y_train)\n",
    "\n",
    "# preds = clf.predict(x_test)\n",
    "print(clf.best_params_)\n",
    "score = clf.score(x_train, y_train)\n",
    "print(score)\n"
   ]
  },
  {
   "cell_type": "code",
   "execution_count": 68,
   "metadata": {},
   "outputs": [
    {
     "name": "stdout",
     "output_type": "stream",
     "text": [
      "{'C': 1, 'gamma': 10, 'kernel': 'linear'}\n",
      "0.8471074380165289\n"
     ]
    }
   ],
   "source": [
    "from sklearn.svm import SVC\n",
    "ksvm = SVC()\n",
    "params = {'kernel':('rbf', 'linear'), 'C':[10, 2.25, 1], 'gamma':[10, 2.25, 1, 5]}\n",
    "ksvm_cv = GridSearchCV(ksvm, params)\n",
    "ksvm_cv.fit(x_train, y_train)\n",
    "\n",
    "print(ksvm_cv.best_params_)\n",
    "score = ksvm_cv.score(x_train, y_train)\n",
    "print(score)"
   ]
  },
  {
   "cell_type": "code",
   "execution_count": 69,
   "metadata": {},
   "outputs": [
    {
     "name": "stdout",
     "output_type": "stream",
     "text": [
      "X TEST:     age  sex  cp  trestbps  chol  fbs  restecg  thalach  exang  oldpeak  \\\n",
      "0    53    1   3       130   246    1        2      173      0      0.0   \n",
      "1    53    1   4       140   203    1        2      155      1      3.1   \n",
      "2    47    1   3       130   253    0        0      179      0      0.0   \n",
      "3    61    1   4       148   203    0        0      161      0      0.0   \n",
      "4    57    1   4       152   274    0        0       88      1      1.2   \n",
      "5    43    1   4       110   211    0        0      161      0      0.0   \n",
      "6    54    1   4       140   239    0        0      160      0      1.2   \n",
      "7    49    1   3       118   149    0        2      126      0      0.8   \n",
      "8    58    1   3       112   230    0        2      165      0      2.5   \n",
      "9    62    1   3       130   231    0        0      146      0      1.8   \n",
      "10   71    0   2       160   302    0        0      162      0      0.4   \n",
      "11   62    0   4       138   294    1        0      106      0      1.9   \n",
      "12   45    0   2       130   234    0        2      175      0      0.6   \n",
      "13   58    1   4       100   234    0        0      156      0      0.1   \n",
      "14   39    1   3       140   321    0        2      182      0      0.0   \n",
      "15   43    1   4       132   247    1        2      143      1      0.1   \n",
      "16   40    1   4       152   223    0        0      181      0      0.0   \n",
      "17   65    1   4       135   254    0        2      127      0      2.8   \n",
      "18   51    0   3       140   308    0        2      142      0      1.5   \n",
      "19   51    0   4       130   305    0        0      142      1      1.2   \n",
      "20   57    0   4       120   354    0        0      163      1      0.6   \n",
      "21   58    0   4       130   197    0        0      131      0      0.6   \n",
      "22   48    1   2       130   245    0        2      180      0      0.2   \n",
      "23   54    0   3       135   304    1        0      170      0      0.0   \n",
      "24   35    1   2       122   192    0        0      174      0      0.0   \n",
      "25   49    1   3       120   188    0        0      139      0      2.0   \n",
      "26   51    1   3       110   175    0        0      123      0      0.6   \n",
      "27   57    1   4       130   131    0        0      115      1      1.2   \n",
      "28   65    1   4       110   248    0        2      158      0      0.6   \n",
      "29   59    1   4       135   234    0        0      161      0      0.5   \n",
      "30   51    1   3       125   245    1        2      166      0      2.4   \n",
      "\n",
      "    slope   ca  thal  \n",
      "0       1  3.0   3.0  \n",
      "1       3  0.0   7.0  \n",
      "2       1  0.0   3.0  \n",
      "3       1  1.0   7.0  \n",
      "4       2  1.0   7.0  \n",
      "5       1  0.0   7.0  \n",
      "6       1  0.0   3.0  \n",
      "7       1  3.0   3.0  \n",
      "8       2  1.0   7.0  \n",
      "9       2  3.0   7.0  \n",
      "10      1  2.0   3.0  \n",
      "11      2  3.0   3.0  \n",
      "12      2  0.0   3.0  \n",
      "13      1  1.0   7.0  \n",
      "14      1  0.0   3.0  \n",
      "15      2  0.0   7.0  \n",
      "16      1  0.0   7.0  \n",
      "17      2  1.0   7.0  \n",
      "18      1  1.0   3.0  \n",
      "19      2  0.0   7.0  \n",
      "20      1  0.0   3.0  \n",
      "21      2  0.0   3.0  \n",
      "22      2  0.0   3.0  \n",
      "23      1  0.0   3.0  \n",
      "24      1  0.0   3.0  \n",
      "25      2  3.0   7.0  \n",
      "26      1  0.0   3.0  \n",
      "27      2  1.0   7.0  \n",
      "28      1  2.0   6.0  \n",
      "29      2  0.0   7.0  \n",
      "30      2  0.0   3.0  \n",
      "Y TEST: [1 1 0 1 1 0 0 1 1 1 0 1 0 0 0 1 0 1 0 1 0 0 0 0 0 1 0 1 1 1 0]\n"
     ]
    }
   ],
   "source": [
    "y_test = ksvm_cv.predict(x_test)\n",
    "print(\"X TEST:\", x_test)\n",
    "print(\"Y TEST:\", y_test)"
   ]
  },
  {
   "cell_type": "code",
   "execution_count": null,
   "metadata": {},
   "outputs": [],
   "source": []
  }
 ],
 "metadata": {
  "kernelspec": {
   "display_name": "hearts",
   "language": "python",
   "name": "python3"
  },
  "language_info": {
   "codemirror_mode": {
    "name": "ipython",
    "version": 3
   },
   "file_extension": ".py",
   "mimetype": "text/x-python",
   "name": "python",
   "nbconvert_exporter": "python",
   "pygments_lexer": "ipython3",
   "version": "3.12.1"
  }
 },
 "nbformat": 4,
 "nbformat_minor": 2
}
